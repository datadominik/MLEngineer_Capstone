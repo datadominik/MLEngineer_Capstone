{
 "cells": [
  {
   "cell_type": "code",
   "execution_count": null,
   "metadata": {},
   "outputs": [],
   "source": [
    "import sys\n",
    "sys.path.insert(0, \"./src\")\n",
    "\n",
    "import numpy as np \n",
    "import pandas as pd\n",
    "import matplotlib.pyplot as plt\n",
    "from imageio import imread\n",
    "import sagemaker\n",
    "from sagemaker import get_execution_role\n",
    "import project_utils\n",
    "from imageio import imread\n",
    "from PIL import Image\n",
    "import glob\n",
    "from sagemaker.tensorflow import TensorFlow, TensorFlowModel\n",
    "import tensorflow as tf\n",
    "from sklearn.metrics import roc_curve, auc\n",
    "from sklearn.preprocessing import label_binarize\n",
    "from sklearn.metrics import confusion_matrix\n",
    "\n",
    "%load_ext autoreload\n",
    "\n",
    "%autoreload 2\n",
    "%aimport project_utils\n",
    "%matplotlib inline\n"
   ]
  },
  {
   "cell_type": "markdown",
   "metadata": {},
   "source": [
    "# Sagemaker preparation"
   ]
  },
  {
   "cell_type": "code",
   "execution_count": null,
   "metadata": {},
   "outputs": [],
   "source": [
    "sagemaker_session = sagemaker.Session()\n",
    "role = sagemaker.get_execution_role()\n",
    "\n",
    "# S3 bucket name\n",
    "bucket = sagemaker_session.default_bucket()\n",
    "\n",
    "\n",
    "# general prefix\n",
    "prefix='kaggle-plant-prediction'\n",
    "\n",
    "# *unique* train/test prefixes\n",
    "train_prefix   = '{}/{}'.format(prefix, 'train_data')\n",
    "validation_prefix    = '{}/{}'.format(prefix, 'val')"
   ]
  },
  {
   "cell_type": "code",
   "execution_count": null,
   "metadata": {},
   "outputs": [],
   "source": [
    "train_prefix"
   ]
  },
  {
   "cell_type": "code",
   "execution_count": null,
   "metadata": {},
   "outputs": [],
   "source": [
    "df_train = pd.read_csv(\"./data/train.csv\")\n",
    "df_test = pd.read_csv(\"./data/test.csv\")"
   ]
  },
  {
   "cell_type": "code",
   "execution_count": null,
   "metadata": {},
   "outputs": [],
   "source": [
    "display(df_train.head())\n",
    "\n",
    "display(df_test.head())"
   ]
  },
  {
   "cell_type": "markdown",
   "metadata": {},
   "source": [
    "# Change file structure and upload data to S3"
   ]
  },
  {
   "cell_type": "code",
   "execution_count": null,
   "metadata": {},
   "outputs": [],
   "source": [
    "project_utils.change_file_structure(df_train)"
   ]
  },
  {
   "cell_type": "code",
   "execution_count": null,
   "metadata": {},
   "outputs": [],
   "source": [
    "bucket_path  = sagemaker_session.upload_data('./train_data', bucket=bucket, key_prefix=prefix)"
   ]
  },
  {
   "cell_type": "code",
   "execution_count": null,
   "metadata": {},
   "outputs": [],
   "source": [
    "train_input_path = \"s3://{}/{}/train/\".format(bucket, prefix)\n",
    "validation_input_path = \"s3://{}/{}/val/\".format(bucket, prefix)\n"
   ]
  },
  {
   "cell_type": "markdown",
   "metadata": {},
   "source": [
    "# Sagemaker training jobs"
   ]
  },
  {
   "cell_type": "code",
   "execution_count": null,
   "metadata": {},
   "outputs": [],
   "source": [
    "\n",
    "s3_output_path = \"s3://{}/{}/output\".format(bucket, prefix)\n",
    "\n",
    "tf_estimator = TensorFlow(entry_point='./src/model_new.py', \n",
    "                          role=role,\n",
    "                          train_instance_count=1, \n",
    "                          train_instance_type='ml.p3.2xlarge',\n",
    "                          framework_version='1.12', \n",
    "                          py_version='py3'\n",
    "                         )\n"
   ]
  },
  {
   "cell_type": "code",
   "execution_count": null,
   "metadata": {},
   "outputs": [],
   "source": [
    "tf_estimator.fit({'train': train_input_path, 'val': validation_input_path})"
   ]
  },
  {
   "cell_type": "markdown",
   "metadata": {},
   "source": [
    "# Sagemaker evaluation"
   ]
  },
  {
   "cell_type": "code",
   "execution_count": null,
   "metadata": {},
   "outputs": [],
   "source": []
  },
  {
   "cell_type": "code",
   "execution_count": null,
   "metadata": {},
   "outputs": [],
   "source": [
    "from sagemaker.tensorflow import TensorFlowPredictor\n",
    "\n",
    "# Please note: endpoint is deployed through the GUI, you need to choose your own endpoint's name\n",
    "predictor = TensorFlowPredictor('kaggle-plantnet-detection')"
   ]
  },
  {
   "cell_type": "code",
   "execution_count": null,
   "metadata": {},
   "outputs": [],
   "source": [
    "val_imgs = glob.glob(\"./train_data/val/*/*.jpg\")"
   ]
  },
  {
   "cell_type": "code",
   "execution_count": null,
   "metadata": {},
   "outputs": [],
   "source": [
    "val_memmap = np.memmap(\"val.dat\", dtype='float32', mode='w+', shape=(len(val_imgs),224,224,3))\n",
    "\n",
    "for i in range(len(val_imgs)):\n",
    "    img = imread(val_imgs[i])\n",
    "    img = np.asarray(Image.fromarray(img).resize((224,224))).reshape(224,224,3) /255.\n",
    "    val_memmap[i] = img"
   ]
  },
  {
   "cell_type": "code",
   "execution_count": null,
   "metadata": {},
   "outputs": [],
   "source": [
    "y_tmp = [img_path.split(\"/\")[-2] for img_path in val_imgs]\n",
    "\n",
    "y = label_binarize(y_tmp, classes=[\"healthy\", \"multiple_diseases\", \"rust\", \"scab\"])\n",
    "\n",
    "\n",
    "val_memmap = np.memmap(\"val.dat\", dtype='float32', mode='r', shape=(len(val_imgs),224,224,3))\n",
    "\n",
    "pred_list = []\n",
    "for idx in range(0, len(val_memmap), 1):\n",
    "    prediction = predictor.predict(val_memmap[idx:idx+1])\n",
    "    pred_list.append(prediction)\n"
   ]
  },
  {
   "cell_type": "code",
   "execution_count": null,
   "metadata": {},
   "outputs": [],
   "source": [
    "y_score = np.asarray([pred[\"predictions\"][0] for pred in pred_list])"
   ]
  },
  {
   "cell_type": "code",
   "execution_count": null,
   "metadata": {},
   "outputs": [],
   "source": [
    "# based on: https://scikit-learn.org/stable/auto_examples/model_selection/plot_roc.html\n",
    "\n",
    "n_classes = y.shape[1]\n",
    "\n",
    "fpr = dict()\n",
    "tpr = dict()\n",
    "roc_auc = dict()\n",
    "for i in range(n_classes):\n",
    "    fpr[i], tpr[i], _ = roc_curve(y[:, i], y_score[:, i])\n",
    "    roc_auc[i] = auc(fpr[i], tpr[i])\n",
    "\n",
    "fpr[\"micro\"], tpr[\"micro\"], _ = roc_curve(y.ravel(), y_score.ravel())\n",
    "roc_auc[\"micro\"] = auc(fpr[\"micro\"], tpr[\"micro\"])\n",
    "\n",
    "plt.figure()\n",
    "plt.plot(fpr[2], tpr[2], color='darkblue',\n",
    "         lw=2, label='ROC curve (AUC = %0.2f)' % roc_auc[2])\n",
    "plt.plot([0, 1], [0, 1], color='darkgray', lw=2, linestyle='--')\n",
    "plt.xlim([0.0, 1.0])\n",
    "plt.ylim([0.0, 1.05])\n",
    "plt.xlabel('False Positive Rate')\n",
    "plt.ylabel('True Positive Rate')\n",
    "plt.title('ROC')\n",
    "plt.legend(loc=\"lower right\")\n",
    "plt.show()"
   ]
  },
  {
   "cell_type": "code",
   "execution_count": null,
   "metadata": {},
   "outputs": [],
   "source": [
    "deviation = y_score.argmax(axis=1) - y.argmax(axis=1)"
   ]
  },
  {
   "cell_type": "code",
   "execution_count": null,
   "metadata": {},
   "outputs": [],
   "source": [
    "target_classes = [\"healthy\", \"multiple_diseases\", \"rust\", \"scab\"]"
   ]
  },
  {
   "cell_type": "code",
   "execution_count": null,
   "metadata": {},
   "outputs": [],
   "source": [
    "img_paths = [val_imgs[i] for i in np.argwhere(deviation != 0).flatten()]\n",
    "img_y_true = [y[i].argmax() for i in np.argwhere(deviation != 0).flatten()]\n",
    "img_y_true = [target_classes[i] for i in img_y_true]\n",
    "img_y_pred = [y_score[i].argmax() for i in np.argwhere(deviation != 0).flatten()]\n",
    "img_y_pred = [target_classes[i] for i in img_y_pred]\n",
    "\n"
   ]
  },
  {
   "cell_type": "code",
   "execution_count": null,
   "metadata": {},
   "outputs": [],
   "source": [
    "idx = 4\n",
    "\n",
    "plt.imshow(imread(img_paths[idx]))\n",
    "print(\"Actual: {}\".format(img_y_true[idx]))\n",
    "print(\"Predicted: {}\".format(img_y_pred[idx]))"
   ]
  },
  {
   "cell_type": "code",
   "execution_count": null,
   "metadata": {},
   "outputs": [],
   "source": [
    "idx = 7\n",
    "\n",
    "plt.imshow(imread(img_paths[idx]))\n",
    "print(\"Actual: {}\".format(img_y_true[idx]))\n",
    "print(\"Predicted: {}\".format(img_y_pred[idx]))"
   ]
  },
  {
   "cell_type": "code",
   "execution_count": null,
   "metadata": {},
   "outputs": [],
   "source": [
    "confusion_matrix(y.argmax(axis=1), y_score.argmax(axis=1))"
   ]
  },
  {
   "cell_type": "markdown",
   "metadata": {},
   "source": [
    "# Kaggle predictions"
   ]
  },
  {
   "cell_type": "code",
   "execution_count": null,
   "metadata": {},
   "outputs": [],
   "source": [
    "\n",
    "test_imgs = glob.glob(\"./images/Test*.jpg\")\n",
    "\n",
    "pred_memmap = np.memmap(\"pred.dat\", dtype='float32', mode='w+', shape=(len(test_imgs),224,224,3))\n",
    "\n",
    "for i in range(len(test_imgs)):\n",
    "    img = imread(test_imgs[i])\n",
    "    img = np.asarray(Image.fromarray(img).resize((224,224))).reshape(224,224,3) /255.\n",
    "    pred_memmap[i] = img"
   ]
  },
  {
   "cell_type": "code",
   "execution_count": null,
   "metadata": {},
   "outputs": [],
   "source": [
    "pred_memmap = np.memmap(\"pred.dat\", dtype='float32', mode='r', shape=(len(test_imgs),224,224,3))\n",
    "\n",
    "\n",
    "pred_list = []\n",
    "for idx in range(0, len(pred_memmap), 1):\n",
    "    prediction = predictor.predict(pred_memmap[idx:idx+1])\n",
    "    pred_list.append(prediction)"
   ]
  },
  {
   "cell_type": "code",
   "execution_count": null,
   "metadata": {},
   "outputs": [],
   "source": [
    "idx = 0\n",
    "plt.imshow(np.asarray(pred_memmap[idx]))\n",
    "display(pred_list[idx])"
   ]
  },
  {
   "cell_type": "code",
   "execution_count": null,
   "metadata": {},
   "outputs": [],
   "source": [
    "name = pd.DataFrame(np.asarray([name.split(\"/\")[-1].split(\".\")[0] for name in test_imgs]), columns=[\"image_id\"])\n",
    "pred = pd.DataFrame(np.asarray([pred[\"predictions\"][0] for pred in pred_list]), columns=[\"healthy\", \"multiple_diseases\", \"rust\", \"scab\"])"
   ]
  },
  {
   "cell_type": "code",
   "execution_count": null,
   "metadata": {},
   "outputs": [],
   "source": [
    "name.join(pred).to_csv(\"submission.csv\", index=None)"
   ]
  }
 ],
 "metadata": {
  "kernelspec": {
   "display_name": "conda_tensorflow_p36",
   "language": "python",
   "name": "conda_tensorflow_p36"
  },
  "language_info": {
   "codemirror_mode": {
    "name": "ipython",
    "version": 3
   },
   "file_extension": ".py",
   "mimetype": "text/x-python",
   "name": "python",
   "nbconvert_exporter": "python",
   "pygments_lexer": "ipython3",
   "version": "3.6.6"
  }
 },
 "nbformat": 4,
 "nbformat_minor": 4
}
